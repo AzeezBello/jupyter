{
 "cells": [
  {
   "cell_type": "code",
   "execution_count": 4,
   "metadata": {},
   "outputs": [],
   "source": [
    "import pandas as pd\n",
    "df = pd.read_excel('Datasets/amazon.com-organic.Pages.xlsx')"
   ]
  },
  {
   "cell_type": "code",
   "execution_count": 15,
   "metadata": {
    "scrolled": false
   },
   "outputs": [
    {
     "data": {
      "text/html": [
       "<div>\n",
       "<style scoped>\n",
       "    .dataframe tbody tr th:only-of-type {\n",
       "        vertical-align: middle;\n",
       "    }\n",
       "\n",
       "    .dataframe tbody tr th {\n",
       "        vertical-align: top;\n",
       "    }\n",
       "\n",
       "    .dataframe thead th {\n",
       "        text-align: right;\n",
       "    }\n",
       "</style>\n",
       "<table border=\"1\" class=\"dataframe\">\n",
       "  <thead>\n",
       "    <tr style=\"text-align: right;\">\n",
       "      <th></th>\n",
       "      <th>URL</th>\n",
       "      <th>Traffic (%)</th>\n",
       "      <th>Number of Keywords</th>\n",
       "      <th>Traffic</th>\n",
       "      <th>Adwords Positions</th>\n",
       "    </tr>\n",
       "  </thead>\n",
       "  <tbody>\n",
       "    <tr>\n",
       "      <th>0</th>\n",
       "      <td>https://www.amazon.com/</td>\n",
       "      <td>8.38</td>\n",
       "      <td>21682</td>\n",
       "      <td>101554318</td>\n",
       "      <td>11823</td>\n",
       "    </tr>\n",
       "    <tr>\n",
       "      <th>1</th>\n",
       "      <td>https://www.amazon.com/gp/prime</td>\n",
       "      <td>1.72</td>\n",
       "      <td>1239</td>\n",
       "      <td>20910881</td>\n",
       "      <td>20</td>\n",
       "    </tr>\n",
       "    <tr>\n",
       "      <th>2</th>\n",
       "      <td>http://www.amazon.com/</td>\n",
       "      <td>0.42</td>\n",
       "      <td>668</td>\n",
       "      <td>5109698</td>\n",
       "      <td>0</td>\n",
       "    </tr>\n",
       "    <tr>\n",
       "      <th>3</th>\n",
       "      <td>https://smile.amazon.com/</td>\n",
       "      <td>0.27</td>\n",
       "      <td>3515</td>\n",
       "      <td>3288594</td>\n",
       "      <td>32</td>\n",
       "    </tr>\n",
       "    <tr>\n",
       "      <th>4</th>\n",
       "      <td>https://www.amazon.com/gp/help/customer/displa...</td>\n",
       "      <td>0.12</td>\n",
       "      <td>480</td>\n",
       "      <td>1472143</td>\n",
       "      <td>0</td>\n",
       "    </tr>\n",
       "  </tbody>\n",
       "</table>\n",
       "</div>"
      ],
      "text/plain": [
       "                                                 URL  Traffic (%)  \\\n",
       "0                            https://www.amazon.com/         8.38   \n",
       "1                    https://www.amazon.com/gp/prime         1.72   \n",
       "2                             http://www.amazon.com/         0.42   \n",
       "3                          https://smile.amazon.com/         0.27   \n",
       "4  https://www.amazon.com/gp/help/customer/displa...         0.12   \n",
       "\n",
       "   Number of Keywords    Traffic  Adwords Positions  \n",
       "0               21682  101554318              11823  \n",
       "1                1239   20910881                 20  \n",
       "2                 668    5109698                  0  \n",
       "3                3515    3288594                 32  \n",
       "4                 480    1472143                  0  "
      ]
     },
     "execution_count": 15,
     "metadata": {},
     "output_type": "execute_result"
    }
   ],
   "source": [
    "df.head()"
   ]
  },
  {
   "cell_type": "code",
   "execution_count": 16,
   "metadata": {},
   "outputs": [
    {
     "data": {
      "text/html": [
       "<div>\n",
       "<style scoped>\n",
       "    .dataframe tbody tr th:only-of-type {\n",
       "        vertical-align: middle;\n",
       "    }\n",
       "\n",
       "    .dataframe tbody tr th {\n",
       "        vertical-align: top;\n",
       "    }\n",
       "\n",
       "    .dataframe thead th {\n",
       "        text-align: right;\n",
       "    }\n",
       "</style>\n",
       "<table border=\"1\" class=\"dataframe\">\n",
       "  <thead>\n",
       "    <tr style=\"text-align: right;\">\n",
       "      <th></th>\n",
       "      <th>URL</th>\n",
       "      <th>Traffic (%)</th>\n",
       "      <th>Number of Keywords</th>\n",
       "      <th>Traffic</th>\n",
       "      <th>Adwords Positions</th>\n",
       "    </tr>\n",
       "  </thead>\n",
       "  <tbody>\n",
       "    <tr>\n",
       "      <th>9995</th>\n",
       "      <td>https://www.amazon.com/paint-sprayers/b?node=4...</td>\n",
       "      <td>0.0</td>\n",
       "      <td>330</td>\n",
       "      <td>9847</td>\n",
       "      <td>0</td>\n",
       "    </tr>\n",
       "    <tr>\n",
       "      <th>9996</th>\n",
       "      <td>https://www.amazon.com/Fun-World-Costumes-Wome...</td>\n",
       "      <td>0.0</td>\n",
       "      <td>90</td>\n",
       "      <td>9847</td>\n",
       "      <td>0</td>\n",
       "    </tr>\n",
       "    <tr>\n",
       "      <th>9997</th>\n",
       "      <td>https://www.amazon.com/Grey-Mens-Hoodie/s?k=Gr...</td>\n",
       "      <td>0.0</td>\n",
       "      <td>67</td>\n",
       "      <td>9847</td>\n",
       "      <td>0</td>\n",
       "    </tr>\n",
       "    <tr>\n",
       "      <th>9998</th>\n",
       "      <td>https://www.amazon.com/King-Candy-Crush-Saga/d...</td>\n",
       "      <td>0.0</td>\n",
       "      <td>1456</td>\n",
       "      <td>9847</td>\n",
       "      <td>0</td>\n",
       "    </tr>\n",
       "    <tr>\n",
       "      <th>9999</th>\n",
       "      <td>https://www.amazon.com/u%C3%B1as-postizas/s?k=...</td>\n",
       "      <td>0.0</td>\n",
       "      <td>6</td>\n",
       "      <td>9845</td>\n",
       "      <td>0</td>\n",
       "    </tr>\n",
       "  </tbody>\n",
       "</table>\n",
       "</div>"
      ],
      "text/plain": [
       "                                                    URL  Traffic (%)  \\\n",
       "9995  https://www.amazon.com/paint-sprayers/b?node=4...          0.0   \n",
       "9996  https://www.amazon.com/Fun-World-Costumes-Wome...          0.0   \n",
       "9997  https://www.amazon.com/Grey-Mens-Hoodie/s?k=Gr...          0.0   \n",
       "9998  https://www.amazon.com/King-Candy-Crush-Saga/d...          0.0   \n",
       "9999  https://www.amazon.com/u%C3%B1as-postizas/s?k=...          0.0   \n",
       "\n",
       "      Number of Keywords  Traffic  Adwords Positions  \n",
       "9995                 330     9847                  0  \n",
       "9996                  90     9847                  0  \n",
       "9997                  67     9847                  0  \n",
       "9998                1456     9847                  0  \n",
       "9999                   6     9845                  0  "
      ]
     },
     "execution_count": 16,
     "metadata": {},
     "output_type": "execute_result"
    }
   ],
   "source": [
    "df.tail()"
   ]
  },
  {
   "cell_type": "code",
   "execution_count": 9,
   "metadata": {},
   "outputs": [
    {
     "data": {
      "text/plain": [
       "Index(['URL', 'Traffic (%)', 'Number of Keywords', 'Traffic',\n",
       "       'Adwords Positions'],\n",
       "      dtype='object')"
      ]
     },
     "execution_count": 9,
     "metadata": {},
     "output_type": "execute_result"
    }
   ],
   "source": [
    "df.keys() "
   ]
  },
  {
   "cell_type": "code",
   "execution_count": 19,
   "metadata": {},
   "outputs": [],
   "source": [
    "df=df[df['Traffic']>30000]"
   ]
  },
  {
   "cell_type": "code",
   "execution_count": 21,
   "metadata": {},
   "outputs": [
    {
     "data": {
      "text/html": [
       "<div>\n",
       "<style scoped>\n",
       "    .dataframe tbody tr th:only-of-type {\n",
       "        vertical-align: middle;\n",
       "    }\n",
       "\n",
       "    .dataframe tbody tr th {\n",
       "        vertical-align: top;\n",
       "    }\n",
       "\n",
       "    .dataframe thead th {\n",
       "        text-align: right;\n",
       "    }\n",
       "</style>\n",
       "<table border=\"1\" class=\"dataframe\">\n",
       "  <thead>\n",
       "    <tr style=\"text-align: right;\">\n",
       "      <th></th>\n",
       "      <th>URL</th>\n",
       "      <th>Traffic (%)</th>\n",
       "      <th>Number of Keywords</th>\n",
       "      <th>Traffic</th>\n",
       "      <th>Adwords Positions</th>\n",
       "    </tr>\n",
       "  </thead>\n",
       "  <tbody>\n",
       "    <tr>\n",
       "      <th>1765</th>\n",
       "      <td>https://www.amazon.com/camera/s?k=camera</td>\n",
       "      <td>0.0</td>\n",
       "      <td>23</td>\n",
       "      <td>30047</td>\n",
       "      <td>1</td>\n",
       "    </tr>\n",
       "    <tr>\n",
       "      <th>1766</th>\n",
       "      <td>https://www.amazon.com/stores/PartyCity/PartyC...</td>\n",
       "      <td>0.0</td>\n",
       "      <td>431</td>\n",
       "      <td>30044</td>\n",
       "      <td>0</td>\n",
       "    </tr>\n",
       "    <tr>\n",
       "      <th>1767</th>\n",
       "      <td>https://www.amazon.com/Womens-Pajama-Bottoms/b...</td>\n",
       "      <td>0.0</td>\n",
       "      <td>281</td>\n",
       "      <td>30025</td>\n",
       "      <td>0</td>\n",
       "    </tr>\n",
       "    <tr>\n",
       "      <th>1768</th>\n",
       "      <td>https://www.amazon.com/paint-pens/s?k=paint+pens</td>\n",
       "      <td>0.0</td>\n",
       "      <td>27</td>\n",
       "      <td>30021</td>\n",
       "      <td>2</td>\n",
       "    </tr>\n",
       "    <tr>\n",
       "      <th>1769</th>\n",
       "      <td>https://www.amazon.com/teddy-bear/s?k=teddy+bear</td>\n",
       "      <td>0.0</td>\n",
       "      <td>98</td>\n",
       "      <td>30020</td>\n",
       "      <td>0</td>\n",
       "    </tr>\n",
       "  </tbody>\n",
       "</table>\n",
       "</div>"
      ],
      "text/plain": [
       "                                                    URL  Traffic (%)  \\\n",
       "1765           https://www.amazon.com/camera/s?k=camera          0.0   \n",
       "1766  https://www.amazon.com/stores/PartyCity/PartyC...          0.0   \n",
       "1767  https://www.amazon.com/Womens-Pajama-Bottoms/b...          0.0   \n",
       "1768   https://www.amazon.com/paint-pens/s?k=paint+pens          0.0   \n",
       "1769   https://www.amazon.com/teddy-bear/s?k=teddy+bear          0.0   \n",
       "\n",
       "      Number of Keywords  Traffic  Adwords Positions  \n",
       "1765                  23    30047                  1  \n",
       "1766                 431    30044                  0  \n",
       "1767                 281    30025                  0  \n",
       "1768                  27    30021                  2  \n",
       "1769                  98    30020                  0  "
      ]
     },
     "execution_count": 21,
     "metadata": {},
     "output_type": "execute_result"
    }
   ],
   "source": [
    "df.tail()"
   ]
  },
  {
   "cell_type": "code",
   "execution_count": 23,
   "metadata": {},
   "outputs": [],
   "source": [
    "df.to_excel (r'Datasets/Amazon-organic.Pages.xlsx', index = False, header=True)"
   ]
  },
  {
   "cell_type": "code",
   "execution_count": null,
   "metadata": {},
   "outputs": [],
   "source": []
  },
  {
   "cell_type": "code",
   "execution_count": null,
   "metadata": {},
   "outputs": [],
   "source": []
  },
  {
   "cell_type": "code",
   "execution_count": null,
   "metadata": {},
   "outputs": [],
   "source": []
  },
  {
   "cell_type": "code",
   "execution_count": null,
   "metadata": {},
   "outputs": [],
   "source": []
  },
  {
   "cell_type": "code",
   "execution_count": null,
   "metadata": {},
   "outputs": [],
   "source": []
  },
  {
   "cell_type": "code",
   "execution_count": null,
   "metadata": {},
   "outputs": [],
   "source": []
  },
  {
   "cell_type": "code",
   "execution_count": null,
   "metadata": {},
   "outputs": [],
   "source": []
  },
  {
   "cell_type": "code",
   "execution_count": null,
   "metadata": {},
   "outputs": [],
   "source": []
  },
  {
   "cell_type": "code",
   "execution_count": null,
   "metadata": {},
   "outputs": [],
   "source": []
  },
  {
   "cell_type": "code",
   "execution_count": 91,
   "metadata": {},
   "outputs": [],
   "source": [
    "\n"
   ]
  },
  {
   "cell_type": "code",
   "execution_count": null,
   "metadata": {},
   "outputs": [],
   "source": []
  },
  {
   "cell_type": "code",
   "execution_count": null,
   "metadata": {},
   "outputs": [],
   "source": []
  },
  {
   "cell_type": "code",
   "execution_count": null,
   "metadata": {},
   "outputs": [],
   "source": []
  },
  {
   "cell_type": "code",
   "execution_count": null,
   "metadata": {},
   "outputs": [],
   "source": []
  },
  {
   "cell_type": "code",
   "execution_count": null,
   "metadata": {},
   "outputs": [],
   "source": []
  },
  {
   "cell_type": "code",
   "execution_count": null,
   "metadata": {},
   "outputs": [],
   "source": []
  },
  {
   "cell_type": "code",
   "execution_count": null,
   "metadata": {},
   "outputs": [],
   "source": []
  },
  {
   "cell_type": "code",
   "execution_count": null,
   "metadata": {},
   "outputs": [],
   "source": []
  },
  {
   "cell_type": "code",
   "execution_count": null,
   "metadata": {},
   "outputs": [],
   "source": []
  },
  {
   "cell_type": "code",
   "execution_count": null,
   "metadata": {},
   "outputs": [],
   "source": []
  },
  {
   "cell_type": "code",
   "execution_count": null,
   "metadata": {},
   "outputs": [],
   "source": []
  },
  {
   "cell_type": "code",
   "execution_count": null,
   "metadata": {},
   "outputs": [],
   "source": []
  }
 ],
 "metadata": {
  "kernelspec": {
   "display_name": "Python 3",
   "language": "python",
   "name": "python3"
  },
  "language_info": {
   "codemirror_mode": {
    "name": "ipython",
    "version": 3
   },
   "file_extension": ".py",
   "mimetype": "text/x-python",
   "name": "python",
   "nbconvert_exporter": "python",
   "pygments_lexer": "ipython3",
   "version": "3.7.1"
  }
 },
 "nbformat": 4,
 "nbformat_minor": 2
}
