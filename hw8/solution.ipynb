{
 "cells": [
  {
   "cell_type": "markdown",
   "metadata": {},
   "source": [
    "# Problem 1"
   ]
  },
  {
   "cell_type": "code",
   "execution_count": 3,
   "metadata": {},
   "outputs": [],
   "source": [
    "import numpy as np"
   ]
  },
  {
   "cell_type": "code",
   "execution_count": 34,
   "metadata": {
    "scrolled": true
   },
   "outputs": [
    {
     "data": {
      "text/plain": [
       "array([1., 1., 1., 1., 1., 1., 1., 1., 1., 1., 1., 1., 1., 1., 1., 1., 1.,\n",
       "       1., 1., 1., 1., 1., 1., 1., 1., 1., 1., 1., 1., 1., 1., 1., 1., 1.,\n",
       "       1., 1., 1., 1., 1., 1., 1., 1., 1., 1., 1., 1., 1., 1., 1., 1.])"
      ]
     },
     "execution_count": 34,
     "metadata": {},
     "output_type": "execute_result"
    }
   ],
   "source": [
    "x = np.ones(50)\n",
    "x"
   ]
  },
  {
   "cell_type": "code",
   "execution_count": null,
   "metadata": {},
   "outputs": [],
   "source": [
    "y"
   ]
  },
  {
   "cell_type": "code",
   "execution_count": null,
   "metadata": {},
   "outputs": [],
   "source": [
    "absolute_sum_of_difference = np.sum(abs(z-y))\n",
    "print(absolute_sum_of_difference)"
   ]
  },
  {
   "cell_type": "code",
   "execution_count": 25,
   "metadata": {},
   "outputs": [
    {
     "data": {
      "text/plain": [
       "array([ 1.        ,  1.3877551 ,  1.7755102 ,  2.16326531,  2.55102041,\n",
       "        2.93877551,  3.32653061,  3.71428571,  4.10204082,  4.48979592,\n",
       "        4.87755102,  5.26530612,  5.65306122,  6.04081633,  6.42857143,\n",
       "        6.81632653,  7.20408163,  7.59183673,  7.97959184,  8.36734694,\n",
       "        8.75510204,  9.14285714,  9.53061224,  9.91836735, 10.30612245,\n",
       "       10.69387755, 11.08163265, 11.46938776, 11.85714286, 12.24489796,\n",
       "       12.63265306, 13.02040816, 13.40816327, 13.79591837, 14.18367347,\n",
       "       14.57142857, 14.95918367, 15.34693878, 15.73469388, 16.12244898,\n",
       "       16.51020408, 16.89795918, 17.28571429, 17.67346939, 18.06122449,\n",
       "       18.44897959, 18.83673469, 19.2244898 , 19.6122449 , 20.        ])"
      ]
     },
     "execution_count": 25,
     "metadata": {},
     "output_type": "execute_result"
    }
   ],
   "source": [
    "y = np.linspace(1,20,50)\n",
    "y"
   ]
  },
  {
   "cell_type": "code",
   "execution_count": 27,
   "metadata": {},
   "outputs": [
    {
     "data": {
      "text/plain": [
       "array([ 1.  ,  1.38,  1.76,  2.14,  2.52,  2.9 ,  3.28,  3.66,  4.04,\n",
       "        4.42,  4.8 ,  5.18,  5.56,  5.94,  6.32,  6.7 ,  7.08,  7.46,\n",
       "        7.84,  8.22,  8.6 ,  8.98,  9.36,  9.74, 10.12, 10.5 , 10.88,\n",
       "       11.26, 11.64, 12.02, 12.4 , 12.78, 13.16, 13.54, 13.92, 14.3 ,\n",
       "       14.68, 15.06, 15.44, 15.82, 16.2 , 16.58, 16.96, 17.34, 17.72,\n",
       "       18.1 , 18.48, 18.86, 19.24, 19.62])"
      ]
     },
     "execution_count": 27,
     "metadata": {},
     "output_type": "execute_result"
    }
   ],
   "source": [
    "z = []\n",
    "i = 1\n",
    "\n",
    "while i < 20:\n",
    "    z.append(round(i,2))\n",
    "    i +=0.38\n",
    "z = np.array(z)\n",
    "z\n",
    "# len(z)\n"
   ]
  },
  {
   "cell_type": "markdown",
   "metadata": {},
   "source": [
    "# Problem 2"
   ]
  },
  {
   "cell_type": "code",
   "execution_count": 5,
   "metadata": {},
   "outputs": [
    {
     "data": {
      "text/plain": [
       "array([1.])"
      ]
     },
     "execution_count": 5,
     "metadata": {},
     "output_type": "execute_result"
    }
   ],
   "source": [
    "M = np.ones(1)\n",
    "M"
   ]
  },
  {
   "cell_type": "code",
   "execution_count": 10,
   "metadata": {},
   "outputs": [
    {
     "data": {
      "text/plain": [
       "array([9])"
      ]
     },
     "execution_count": 10,
     "metadata": {},
     "output_type": "execute_result"
    }
   ],
   "source": [
    "\n",
    "i = 0\n",
    "while M[-1] !=7:\n",
    "    i += 1\n",
    "    \n",
    "    if i > 30:\n",
    "        break\n",
    "    randnum = rand.rint(1,10)\n",
    "    M = np.append(M,random)\n",
    "    \n",
    "print(\"\\n\",M,\"\\\")\n",
    "print(\"Length of M = \",len(M))\n",
    "print()"
   ]
  },
  {
   "cell_type": "code",
   "execution_count": 12,
   "metadata": {},
   "outputs": [
    {
     "data": {
      "text/plain": [
       "array([1., 9.])"
      ]
     },
     "execution_count": 12,
     "metadata": {},
     "output_type": "execute_result"
    }
   ],
   "source": [
    "new_m = np.append (m, mrand)\n",
    "new_m"
   ]
  },
  {
   "cell_type": "markdown",
   "metadata": {},
   "source": [
    "# Problem 3"
   ]
  },
  {
   "cell_type": "code",
   "execution_count": 4,
   "metadata": {},
   "outputs": [],
   "source": [
    "a = np.array([  8.,3.,10.,8.,2.,2.,10.,10.,5.,10.,2.,10.,9.,10.,9.,4.,2.,8.,7.,4.,1.,4.,5.,6.,6.])"
   ]
  },
  {
   "cell_type": "code",
   "execution_count": 7,
   "metadata": {},
   "outputs": [
    {
     "name": "stdout",
     "output_type": "stream",
     "text": [
      "[[ 8.  3. 10.  8.  2.]\n",
      " [ 2. 10. 10.  5. 10.]\n",
      " [ 2. 10.  9. 10.  9.]\n",
      " [ 4.  2.  8.  7.  4.]\n",
      " [ 1.  4.  5.  6.  6.]]\n"
     ]
    }
   ],
   "source": [
    "a = a.reshape(5,5)\n",
    "k = [0,0]\n",
    "\n",
    "for i in np.arrange(np.size(a,0)):\n",
    "    for j in  np.arrange(np.size(a,1)):\n",
    "        if a[]\n",
    "print(f\"\\n Total 5's ==>{k[]} \\nTotal 8's ==>{k[1]}\")"
   ]
  },
  {
   "cell_type": "markdown",
   "metadata": {},
   "source": [
    "# Problem 4"
   ]
  },
  {
   "cell_type": "code",
   "execution_count": 20,
   "metadata": {},
   "outputs": [
    {
     "data": {
      "text/plain": [
       "matrix([[-0.1, -0.2, -0.3],\n",
       "        [ 3. , 10. ,  2. ],\n",
       "        [ 4. ,  2. ,  0.5]])"
      ]
     },
     "execution_count": 20,
     "metadata": {},
     "output_type": "execute_result"
    }
   ],
   "source": [
    "𝐴 = np.matrix([ [1,2,3],[4,5,6],[7,8,9] ])     # 3x3 matrix\n",
    "𝑥 = np.matrix([[1], [3], [4] ])      # 3x1 matrix\n",
    "𝐵 = np.matrix([ [-0.1,-0.2,-0.3],[3,10,2],[4,2,0.5] ]) # 3x3 matrix\n",
    "# 𝐴\n",
    "# 𝑥\n",
    "# 𝐵 "
   ]
  },
  {
   "cell_type": "code",
   "execution_count": 22,
   "metadata": {},
   "outputs": [
    {
     "data": {
      "text/plain": [
       "array([[1, 2, 3],\n",
       "       [4, 5, 6],\n",
       "       [7, 8, 9]])"
      ]
     },
     "execution_count": 22,
     "metadata": {},
     "output_type": "execute_result"
    }
   ],
   "source": [
    "A = np.array([ [1,2,3],[4,5,6],[7,8,9] ])     # 3x3 matrix\n",
    "X = np.array([[1], [3], [4] ])      # 3x1 matrix\n",
    "B = np.array([ [-0.1,-0.2,-0.3],[3,10,2],[4,2,0.5] ]) # 3x3 matrix\n",
    "A"
   ]
  },
  {
   "cell_type": "code",
   "execution_count": 30,
   "metadata": {},
   "outputs": [
    {
     "data": {
      "text/plain": [
       "array([[-0.1, -0.4, -0.9],\n",
       "       [12. , 50. , 12. ],\n",
       "       [28. , 16. ,  4.5]])"
      ]
     },
     "execution_count": 30,
     "metadata": {},
     "output_type": "execute_result"
    }
   ],
   "source": [
    "A_mul_B = A*B\n",
    "A_mul_B"
   ]
  },
  {
   "cell_type": "code",
   "execution_count": 36,
   "metadata": {},
   "outputs": [
    {
     "data": {
      "text/plain": [
       "array([[17.9, 25.8,  5.2],\n",
       "       [38.6, 61.2, 11.8],\n",
       "       [59.3, 96.6, 18.4]])"
      ]
     },
     "execution_count": 36,
     "metadata": {},
     "output_type": "execute_result"
    }
   ],
   "source": [
    "A_Prod_B = np.dot(A,B)\n",
    "A_Prod_B"
   ]
  },
  {
   "cell_type": "code",
   "execution_count": 37,
   "metadata": {},
   "outputs": [
    {
     "data": {
      "text/plain": [
       "array([[ 1.11022302e-16, -5.55111512e-17,  0.00000000e+00],\n",
       "       [-5.00000000e+01,  1.00000000e+01,  2.50000000e+01],\n",
       "       [-1.40000000e+01,  3.25000000e+01, -1.80000000e+01]])"
      ]
     },
     "execution_count": 37,
     "metadata": {},
     "output_type": "execute_result"
    }
   ],
   "source": [
    "A_cross_B = np.cross(A,B)\n",
    "A_cross_B"
   ]
  },
  {
   "cell_type": "code",
   "execution_count": 39,
   "metadata": {},
   "outputs": [
    {
     "data": {
      "text/plain": [
       "array([[19],\n",
       "       [43],\n",
       "       [67]])"
      ]
     },
     "execution_count": 39,
     "metadata": {},
     "output_type": "execute_result"
    }
   ],
   "source": [
    "A_prod_X = np.dot(A,X)\n",
    "A_prod_X"
   ]
  },
  {
   "cell_type": "code",
   "execution_count": null,
   "metadata": {},
   "outputs": [],
   "source": []
  }
 ],
 "metadata": {
  "kernelspec": {
   "display_name": "Python 3",
   "language": "python",
   "name": "python3"
  },
  "language_info": {
   "codemirror_mode": {
    "name": "ipython",
    "version": 3
   },
   "file_extension": ".py",
   "mimetype": "text/x-python",
   "name": "python",
   "nbconvert_exporter": "python",
   "pygments_lexer": "ipython3",
   "version": "3.7.1"
  }
 },
 "nbformat": 4,
 "nbformat_minor": 2
}
